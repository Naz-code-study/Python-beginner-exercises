{
 "cells": [
  {
   "cell_type": "markdown",
   "id": "032d81b2",
   "metadata": {},
   "source": [
    "# 1\n",
    "x = 3 ----> floata çevirelim. Çevirdikten sonra beri tipinide yazdıralım.\n",
    "\n",
    "y = 4.5 -----> integere çevirelim. Çevirdikten sonra beri tipinide yazdıralım.\n",
    "\n",
    "z = \"8\" -----> integera çevirelim. Çevirdikten sonra beri tipinide yazdıralım.\n",
    "\n",
    "a = \"12\" -----> floata çevirelim. Çevirdikten sonra beri tipinide yazdıralım.\n",
    "\n",
    "b = \"46.8\" ------> integera çevirelim. Çevirdikten sonra beri tipinide yazdıralım."
   ]
  },
  {
   "cell_type": "code",
   "execution_count": 5,
   "id": "f1b735c0",
   "metadata": {},
   "outputs": [
    {
     "name": "stdout",
     "output_type": "stream",
     "text": [
      "3.0\n",
      "<class 'float'>\n"
     ]
    }
   ],
   "source": [
    "sayi = 3  \n",
    "sayi_float = float(sayi)\n",
    "print(sayi_float)\n",
    "print(type(sayi_float)) "
   ]
  },
  {
   "cell_type": "code",
   "execution_count": 11,
   "id": "c16bb183-e3dc-4112-a94c-fc8a38f8e35f",
   "metadata": {},
   "outputs": [
    {
     "name": "stdout",
     "output_type": "stream",
     "text": [
      "4\n",
      "<class 'int'>\n"
     ]
    }
   ],
   "source": [
    "sayi=4.5\n",
    "sayi_int=int(sayi)\n",
    "print(sayi_int)\n",
    "print(type(sayi_int))"
   ]
  },
  {
   "cell_type": "code",
   "execution_count": 13,
   "id": "119276d9-640e-4bc0-844e-029c71381edd",
   "metadata": {},
   "outputs": [
    {
     "name": "stdout",
     "output_type": "stream",
     "text": [
      "8\n",
      "<class 'int'>\n"
     ]
    }
   ],
   "source": [
    "string_sayi=\"8\"\n",
    "sayi=int(string_sayi)\n",
    "print(sayi)\n",
    "print(type(sayi))"
   ]
  },
  {
   "cell_type": "code",
   "execution_count": 15,
   "id": "3b619734-750b-4470-956b-04cc59c7cc1a",
   "metadata": {},
   "outputs": [
    {
     "name": "stdout",
     "output_type": "stream",
     "text": [
      "12.0\n",
      "<class 'float'>\n"
     ]
    }
   ],
   "source": [
    "a=\"12\"\n",
    "sayi=float(a)\n",
    "print(sayi)\n",
    "print(type(sayi))"
   ]
  },
  {
   "cell_type": "code",
   "execution_count": 21,
   "id": "d0d7ec54-7481-4891-a09c-1fd30eac93f4",
   "metadata": {},
   "outputs": [
    {
     "name": "stdout",
     "output_type": "stream",
     "text": [
      "46\n",
      "<class 'int'>\n"
     ]
    }
   ],
   "source": [
    "b=\"46.8\"\n",
    "sayi=int(float(b))\n",
    "print(sayi)\n",
    "print(type(sayi))"
   ]
  },
  {
   "cell_type": "markdown",
   "id": "95509718",
   "metadata": {},
   "source": [
    "# 2 \n",
    "İsimlerden oluşan üç değişkene yaş değerleri atanır. Belirlenen üç değişken birbiriyle karşılaştırma operatörleri ile karşılaştırılır. Bu karşılaştırmalara mantıksal operatörler de eklenir."
   ]
  },
  {
   "cell_type": "code",
   "execution_count": 85,
   "id": "36490883-ef6b-4846-a48b-ae8aac8dc729",
   "metadata": {},
   "outputs": [
    {
     "name": "stdout",
     "output_type": "stream",
     "text": [
      "Güler,Naz'dan büyük mü? : True\n",
      "Naz ve Mehmet'in yaşları eşit mi? : False\n",
      "Güler her ikisinden de büyük mü?: False\n",
      "Naz,Güler'den küçük veya Mehmet ile aynı yaşta mı?: True\n",
      "Mehmet ile Güler aynı yaşta değil mi?: True\n"
     ]
    }
   ],
   "source": [
    "naz_yas=23\n",
    "guler_yas=59\n",
    "mehmet_yas=66\n",
    "print(\"Güler,Naz'dan büyük mü? :\",guler_yas>naz_yas)\n",
    "print(\"Naz ve Mehmet'in yaşları eşit mi? :\", mehmet_yas==naz_yas)\n",
    "print(\"Güler her ikisinden de büyük mü?:\", guler_yas>naz_yas and guler_yas>mehmet_yas)\n",
    "print(\"Naz,Güler'den küçük veya Mehmet ile aynı yaşta mı?:\",naz_yas<guler_yas or mehmet_yas==naz_yas)\n",
    "print(\"Mehmet ile Güler aynı yaşta değil mi?:\", mehmet_yas!=guler_yas)"
   ]
  },
  {
   "cell_type": "markdown",
   "id": "a1a0eb92",
   "metadata": {},
   "source": [
    "# 3\n",
    "Kullanıcıdan iki değer girmesini istenir. Girilen değerlerin toplama, çıkarma, çarpma, bölme sonuçlarını yazdırılır."
   ]
  },
  {
   "cell_type": "code",
   "execution_count": 39,
   "id": "c361e45a",
   "metadata": {},
   "outputs": [
    {
     "name": "stdin",
     "output_type": "stream",
     "text": [
      "Birinci sayıyı giriniz: -1\n",
      "İkinci sayıyı giriniz: -5.2\n"
     ]
    },
    {
     "name": "stdout",
     "output_type": "stream",
     "text": [
      "Toplam= -6.2\n",
      "Fark= 4.2\n",
      "Çarpım= 5.2\n",
      "Bölüm= 0.1923076923076923\n"
     ]
    }
   ],
   "source": [
    "sayi1=float(input((\"Birinci sayıyı giriniz:\")))\n",
    "sayi2=float(input((\"İkinci sayıyı giriniz:\")))\n",
    "toplam=sayi1+sayi2\n",
    "fark=sayi1-sayi2\n",
    "carpım=sayi1*sayi2\n",
    "if sayi2!=0:\n",
    "  bolum=sayi1/sayi2\n",
    "else:\n",
    "  bolum=\"Tanımsız\"\n",
    "print(\"Toplam=\",toplam)\n",
    "print(\"Fark=\",fark)\n",
    "print(\"Çarpım=\",carpım)\n",
    "print(\"Bölüm=\",bolum)"
   ]
  },
  {
   "cell_type": "markdown",
   "id": "060b0bea",
   "metadata": {},
   "source": [
    "# 4\n",
    "Kullanıcıdan isim, yaş, şehir ve meslek bilgilerini istenir ve cevaplarını yazdırılır."
   ]
  },
  {
   "cell_type": "code",
   "execution_count": 47,
   "id": "6f5dea59",
   "metadata": {},
   "outputs": [
    {
     "name": "stdin",
     "output_type": "stream",
     "text": [
      "İsminizi giriniz: naz\n",
      "Yaşınızı giriniz: 23\n",
      "Yaşadığınız şehri giriniz: sakarya\n",
      "Mesleğinizi giriniz: öğrenci\n"
     ]
    },
    {
     "name": "stdout",
     "output_type": "stream",
     "text": [
      "İsim: naz\n",
      "Yaş: 23\n",
      "Yaşadığınız şehir: sakarya\n",
      "Meslek: öğrenci\n"
     ]
    }
   ],
   "source": [
    "isim=input(\"İsminizi giriniz:\")\n",
    "yas=input(\"Yaşınızı giriniz:\")\n",
    "sehir=input(\"Yaşadığınız şehri giriniz:\")\n",
    "meslek=input(\"Mesleğinizi giriniz:\")\n",
    "print(\"İsim:\",isim)\n",
    "print(\"Yaş:\",yas)\n",
    "print(\"Yaşadığınız şehir:\",sehir)\n",
    "print(\"Meslek:\",meslek)"
   ]
  },
  {
   "cell_type": "markdown",
   "id": "55e1a34e",
   "metadata": {},
   "source": [
    "# 5\n",
    "\"Hi-Kod Veri Bilimi Atölyesi\" ifadesini bir değişkene tanımlanır.\n",
    "\n",
    "\n",
    " 1. İfadedeki her bir kelimeyi (\"Hi-Kod\", \"Veri\", \"Bilimi\", \"Atölyesi\") değişken içinden seçilir. \n",
    " 2. İfadeyi hepsini büyük harf olacak hale çevrilir. (\"HI-KOD VERİ BİLİMİ ATÖLYESİ\") \n",
    " 3. İfadeyi hepsini büyük harf olacak hale çevrilir.(\"hi-kod veri bilimi atölyesi\") \n",
    "\n",
    "\"0123456789\" ifadesindeki yalnızca çift sayıları ve yalnızca tek sayıları seçilir. (\"02468\", \"13579\")"
   ]
  },
  {
   "cell_type": "code",
   "execution_count": 77,
   "id": "9272e6bc-7cf6-4c43-9a20-7e6a15f73991",
   "metadata": {},
   "outputs": [
    {
     "name": "stdout",
     "output_type": "stream",
     "text": [
      "Hi-Kod Veri Bilimi Atölyesi\n"
     ]
    }
   ],
   "source": [
    "kelime1=\"Hi-Kod\"\n",
    "kelime2=\"Veri\"\n",
    "kelime3=\"Bilimi\"\n",
    "kelime4=\"Atölyesi\"\n",
    "cümle=kelime1+ \" \" +kelime2+ \" \" +kelime3+ \" \" +kelime4\n",
    "print(cümle)"
   ]
  },
  {
   "cell_type": "code",
   "execution_count": 67,
   "id": "0fc1bc40",
   "metadata": {},
   "outputs": [
    {
     "name": "stdout",
     "output_type": "stream",
     "text": [
      "HI-KOD VERI BILIMI ATÖLYESI\n"
     ]
    }
   ],
   "source": [
    "ifade=\"Hi-Kod Veri Bilimi Atölyesi\"\n",
    "ifade_buyuk= ifade.upper()\n",
    "print(ifade_buyuk)"
   ]
  },
  {
   "cell_type": "code",
   "execution_count": 69,
   "id": "8804ab32-20ab-4c2c-a8d5-2ad9d6fe738f",
   "metadata": {},
   "outputs": [
    {
     "name": "stdout",
     "output_type": "stream",
     "text": [
      "hi-kod veri bilimi atölyesi\n"
     ]
    }
   ],
   "source": [
    "ifade=\"Hi-Kod Veri Bilimi Atölyesi\"\n",
    "ifade_kucuk= ifade.lower()\n",
    "print(ifade_kucuk)"
   ]
  },
  {
   "cell_type": "code",
   "execution_count": 71,
   "id": "eaa672ab-f332-4e70-a573-508adc8e010a",
   "metadata": {},
   "outputs": [
    {
     "name": "stdout",
     "output_type": "stream",
     "text": [
      "Çift sayılar= 02468\n",
      "Tek sayılar= 13579\n"
     ]
    }
   ],
   "source": [
    "sayi_dizisi=\"0123456789\"\n",
    "cift_sayilar=\"\"\n",
    "tek_sayilar=\"\"\n",
    "for karakter in sayi_dizisi:\n",
    "    if int(karakter)%2==0:\n",
    "        cift_sayilar+=karakter\n",
    "    else:\n",
    "        tek_sayilar+=karakter\n",
    "print(\"Çift sayılar=\",cift_sayilar)\n",
    "print(\"Tek sayılar=\",tek_sayilar)"
   ]
  }
 ],
 "metadata": {
  "kernelspec": {
   "display_name": "Python 3 (ipykernel)",
   "language": "python",
   "name": "python3"
  },
  "language_info": {
   "codemirror_mode": {
    "name": "ipython",
    "version": 3
   },
   "file_extension": ".py",
   "mimetype": "text/x-python",
   "name": "python",
   "nbconvert_exporter": "python",
   "pygments_lexer": "ipython3",
   "version": "3.12.4"
  }
 },
 "nbformat": 4,
 "nbformat_minor": 5
}
